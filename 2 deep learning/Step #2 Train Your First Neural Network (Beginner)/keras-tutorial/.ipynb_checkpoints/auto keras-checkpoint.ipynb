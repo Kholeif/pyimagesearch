{
 "cells": [
  {
   "cell_type": "code",
   "execution_count": 1,
   "metadata": {},
   "outputs": [],
   "source": [
    "import autokeras as ak\n",
    "from sklearn.preprocessing import LabelBinarizer\n",
    "from sklearn.model_selection import train_test_split\n",
    "import numpy as np\n",
    "import cv2\n",
    "import os\n",
    "import matplotlib\n",
    "matplotlib.use(\"Agg\")\n",
    "import matplotlib.pyplot as plt"
   ]
  },
  {
   "cell_type": "code",
   "execution_count": 2,
   "metadata": {},
   "outputs": [
    {
     "data": {
      "text/plain": [
       "['cats', 'dogs', 'panda']"
      ]
     },
     "execution_count": 2,
     "metadata": {},
     "output_type": "execute_result"
    }
   ],
   "source": [
    "classes = os.listdir(\"animals\")\n",
    "classes"
   ]
  },
  {
   "cell_type": "code",
   "execution_count": 3,
   "metadata": {},
   "outputs": [],
   "source": [
    "x=[]\n",
    "y=[]\n",
    "for i in classes:\n",
    "    current_folder = os.path.join(\"animals\",i)\n",
    "    for j in os.listdir(current_folder):\n",
    "        image_path = os.path.join(\"animals\",i,j)\n",
    "        image = cv2.imread(image_path)\n",
    "        image = cv2.resize(image,(64,64))\n",
    "        x.append(image)\n",
    "        y.append(i)"
   ]
  },
  {
   "cell_type": "code",
   "execution_count": 4,
   "metadata": {},
   "outputs": [
    {
     "name": "stdout",
     "output_type": "stream",
     "text": [
      "(3000, 64, 64, 3)\n",
      "(3000,)\n"
     ]
    }
   ],
   "source": [
    "x=np.array(x)/255.0\n",
    "print(x.shape)\n",
    "y=np.array(y)\n",
    "print(y.shape)"
   ]
  },
  {
   "cell_type": "code",
   "execution_count": 5,
   "metadata": {},
   "outputs": [],
   "source": [
    "(trainX, testX, trainY, testY) = train_test_split(x, y, test_size=0.25, random_state=42)"
   ]
  },
  {
   "cell_type": "code",
   "execution_count": 6,
   "metadata": {},
   "outputs": [
    {
     "name": "stdout",
     "output_type": "stream",
     "text": [
      "['cats' 'dogs' 'panda']\n",
      "3\n"
     ]
    }
   ],
   "source": [
    "lb = LabelBinarizer()\n",
    "lb.fit(trainY)\n",
    "trainY = lb.transform(trainY)\n",
    "testY = lb.transform(testY)\n",
    "classes_names = lb.classes_\n",
    "print(classes_names)\n",
    "classes_number = len(lb.classes_)\n",
    "print(classes_number)"
   ]
  },
  {
   "cell_type": "code",
   "execution_count": 7,
   "metadata": {},
   "outputs": [
    {
     "name": "stdout",
     "output_type": "stream",
     "text": [
      "Trial 1 Complete [00h 00m 44s]\n",
      "val_loss: 0.7314559817314148\n",
      "\n",
      "Best val_loss So Far: 0.7314559817314148\n",
      "Total elapsed time: 00h 00m 44s\n",
      "INFO:tensorflow:Oracle triggered exit\n",
      "Epoch 1/30\n",
      "71/71 [==============================] - 2s 28ms/step - loss: 0.8839 - accuracy: 0.5800\n",
      "Epoch 2/30\n",
      "71/71 [==============================] - 2s 28ms/step - loss: 0.6047 - accuracy: 0.7280\n",
      "Epoch 3/30\n",
      "71/71 [==============================] - 2s 27ms/step - loss: 0.4634 - accuracy: 0.8080\n",
      "Epoch 4/30\n",
      "71/71 [==============================] - 2s 28ms/step - loss: 0.3465 - accuracy: 0.8604\n",
      "Epoch 5/30\n",
      "71/71 [==============================] - 2s 27ms/step - loss: 0.2805 - accuracy: 0.8858\n",
      "Epoch 6/30\n",
      "71/71 [==============================] - 2s 27ms/step - loss: 0.2299 - accuracy: 0.9151\n",
      "Epoch 7/30\n",
      "71/71 [==============================] - 2s 27ms/step - loss: 0.2169 - accuracy: 0.9160\n",
      "Epoch 8/30\n",
      "71/71 [==============================] - 2s 27ms/step - loss: 0.1937 - accuracy: 0.9262\n",
      "Epoch 9/30\n",
      "71/71 [==============================] - 2s 27ms/step - loss: 0.1329 - accuracy: 0.9480\n",
      "Epoch 10/30\n",
      "71/71 [==============================] - 2s 27ms/step - loss: 0.0930 - accuracy: 0.9711\n",
      "Epoch 11/30\n",
      "71/71 [==============================] - 2s 28ms/step - loss: 0.0785 - accuracy: 0.9724\n",
      "Epoch 12/30\n",
      "71/71 [==============================] - 2s 28ms/step - loss: 0.0625 - accuracy: 0.9804\n",
      "Epoch 13/30\n",
      "71/71 [==============================] - 2s 28ms/step - loss: 0.0527 - accuracy: 0.9822\n",
      "Epoch 14/30\n",
      "71/71 [==============================] - 2s 28ms/step - loss: 0.0583 - accuracy: 0.9844\n",
      "Epoch 15/30\n",
      "71/71 [==============================] - 2s 28ms/step - loss: 0.0414 - accuracy: 0.9876\n",
      "Epoch 16/30\n",
      "71/71 [==============================] - 2s 27ms/step - loss: 0.0682 - accuracy: 0.9764\n",
      "Epoch 17/30\n",
      "71/71 [==============================] - 2s 28ms/step - loss: 0.0525 - accuracy: 0.9831\n",
      "Epoch 18/30\n",
      "71/71 [==============================] - 2s 28ms/step - loss: 0.0396 - accuracy: 0.9884\n",
      "Epoch 19/30\n",
      "71/71 [==============================] - 2s 28ms/step - loss: 0.0384 - accuracy: 0.9867\n",
      "Epoch 20/30\n",
      "71/71 [==============================] - 2s 27ms/step - loss: 0.0517 - accuracy: 0.9818\n",
      "Epoch 21/30\n",
      "71/71 [==============================] - 2s 27ms/step - loss: 0.0517 - accuracy: 0.9804\n",
      "Epoch 22/30\n",
      "71/71 [==============================] - 2s 28ms/step - loss: 0.0585 - accuracy: 0.9782\n",
      "Epoch 23/30\n",
      "71/71 [==============================] - 2s 27ms/step - loss: 0.0657 - accuracy: 0.9738\n",
      "Epoch 24/30\n",
      "71/71 [==============================] - 2s 27ms/step - loss: 0.0504 - accuracy: 0.9827\n",
      "Epoch 25/30\n",
      "71/71 [==============================] - 2s 28ms/step - loss: 0.0438 - accuracy: 0.9827\n",
      "Epoch 26/30\n",
      "71/71 [==============================] - 2s 28ms/step - loss: 0.0550 - accuracy: 0.9809\n",
      "Epoch 27/30\n",
      "71/71 [==============================] - 2s 28ms/step - loss: 0.0412 - accuracy: 0.9862\n",
      "Epoch 28/30\n",
      "71/71 [==============================] - 2s 28ms/step - loss: 0.0561 - accuracy: 0.9796\n",
      "Epoch 29/30\n",
      "71/71 [==============================] - 2s 28ms/step - loss: 0.0421 - accuracy: 0.9871\n",
      "Epoch 30/30\n",
      "71/71 [==============================] - 2s 27ms/step - loss: 0.0440 - accuracy: 0.9831\n",
      "WARNING:tensorflow:From D:\\anaconda\\lib\\site-packages\\tensorflow\\python\\training\\tracking\\tracking.py:111: Model.state_updates (from tensorflow.python.keras.engine.training) is deprecated and will be removed in a future version.\n",
      "Instructions for updating:\n",
      "This property should not be used in TensorFlow 2.0, as updates are applied automatically.\n",
      "WARNING:tensorflow:From D:\\anaconda\\lib\\site-packages\\tensorflow\\python\\training\\tracking\\tracking.py:111: Layer.updates (from tensorflow.python.keras.engine.base_layer) is deprecated and will be removed in a future version.\n",
      "Instructions for updating:\n",
      "This property should not be used in TensorFlow 2.0, as updates are applied automatically.\n",
      "INFO:tensorflow:Assets written to: .\\image_classifier\\best_model\\assets\n"
     ]
    }
   ],
   "source": [
    "clf = ak.ImageClassifier(\n",
    "    overwrite=True,\n",
    "    max_trials=1)\n",
    "H = clf.fit(trainX, trainY, epochs=30)"
   ]
  },
  {
   "cell_type": "code",
   "execution_count": 8,
   "metadata": {},
   "outputs": [
    {
     "name": "stdout",
     "output_type": "stream",
     "text": [
      "[[1.5569988e-01 8.4387988e-01 4.2030890e-04]\n",
      " [1.0942358e-02 9.8905760e-01 1.1176790e-08]\n",
      " [3.3402050e-01 6.6597950e-01 3.3298139e-08]\n",
      " ...\n",
      " [1.3182638e-07 6.2698163e-02 9.3730164e-01]\n",
      " [2.1534172e-06 9.9999785e-01 2.2282862e-08]\n",
      " [5.8378160e-01 4.1434264e-01 1.8758014e-03]]\n"
     ]
    }
   ],
   "source": [
    "predicted_y = clf.predict(testX)\n",
    "print(predicted_y)"
   ]
  },
  {
   "cell_type": "code",
   "execution_count": 9,
   "metadata": {},
   "outputs": [
    {
     "name": "stdout",
     "output_type": "stream",
     "text": [
      "24/24 [==============================] - 0s 12ms/step - loss: 1.7868 - accuracy: 0.7067\n",
      "[1.7868140935897827, 0.7066666483879089]\n"
     ]
    }
   ],
   "source": [
    "print(clf.evaluate(testX, testY))"
   ]
  },
  {
   "cell_type": "code",
   "execution_count": 10,
   "metadata": {},
   "outputs": [
    {
     "name": "stdout",
     "output_type": "stream",
     "text": [
      "              precision    recall  f1-score   support\n",
      "\n",
      "        cats       0.66      0.73      0.69       262\n",
      "        dogs       0.61      0.58      0.59       249\n",
      "       panda       0.88      0.82      0.85       239\n",
      "\n",
      "    accuracy                           0.71       750\n",
      "   macro avg       0.71      0.71      0.71       750\n",
      "weighted avg       0.71      0.71      0.71       750\n",
      "\n"
     ]
    }
   ],
   "source": [
    "from sklearn.metrics import classification_report\n",
    "print(classification_report(testY.argmax(axis=1), predicted_y.argmax(axis=1), target_names=lb.classes_))"
   ]
  }
 ],
 "metadata": {
  "kernelspec": {
   "display_name": "Python 3",
   "language": "python",
   "name": "python3"
  },
  "language_info": {
   "codemirror_mode": {
    "name": "ipython",
    "version": 3
   },
   "file_extension": ".py",
   "mimetype": "text/x-python",
   "name": "python",
   "nbconvert_exporter": "python",
   "pygments_lexer": "ipython3",
   "version": "3.7.7"
  }
 },
 "nbformat": 4,
 "nbformat_minor": 4
}
